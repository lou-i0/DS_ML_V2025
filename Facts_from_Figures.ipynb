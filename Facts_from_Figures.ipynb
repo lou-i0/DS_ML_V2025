{
 "cells": [
  {
   "cell_type": "markdown",
   "id": "904ac2bf",
   "metadata": {},
   "source": [
    "# Facts from Figures \n",
    "This page is dedicated to writing down all notes made from titled book by M.J Moroney"
   ]
  },
  {
   "cell_type": "markdown",
   "id": "7fa73099",
   "metadata": {},
   "source": [
    "## Chapter 4 - The Average\n"
   ]
  },
  {
   "cell_type": "markdown",
   "id": "f8caed1d",
   "metadata": {},
   "source": [
    "- Purpose of an average: Represent a group of individual values in a simple concise manner\n",
    "using the simple array of 1-10 to explain the type of averages\n",
    "[1,2,3,4,5,6,7,8,9]"
   ]
  },
  {
   "cell_type": "markdown",
   "id": "1ac2ec1e",
   "metadata": {},
   "source": [
    "### Arithmetic Mean , most standard average used :\n",
    "$$\n",
    " \\frac {\\epsilon x}{n}\n",
    "$$\n",
    "  "
   ]
  },
  {
   "cell_type": "markdown",
   "id": "f557e50c",
   "metadata": {},
   "source": [
    "### Harmonic Mean:\n",
    "- **for rates, prices, speeds**\n",
    "- reciprocal of arithmetic mean \n",
    "- dividing a number by unity e.g 1/4 = 0.25\n",
    "- Good to use for rates and prices\n",
    "- also for speed when time is vairbale , but speed is constant (10mph e.g?)\n",
    "$$\n",
    "\\frac{n}{\\epsilon(1/x)}\n",
    "$$"
   ]
  },
  {
   "cell_type": "markdown",
   "id": "b55aa5e7",
   "metadata": {},
   "source": [
    "### Geometric Mean\n",
    "- **for exponential growth**\n",
    "- used for dealing with growth , such as population growth in a city \n",
    "- multiply all quantities desired to avg, then with n quantities\n",
    "- find the nth root of the product\n",
    "\n",
    "$$\n",
    "\\sqrt[n]{x^1*X^2+\\dots+x^n}\n",
    "$$\n"
   ]
  },
  {
   "cell_type": "markdown",
   "id": "3b7ac44b",
   "metadata": {},
   "source": [
    "### Measure of central tendancy\n",
    "**Mean**  =  as above , good for precision, but not good to represent typical numbers \n",
    "  \n",
    "**Median** =  measure not impacted by tails or skews in distribution\n",
    "- arrange numbers from smallest to largest etc e.g. from [4,2,5,8,6,1,10] -> [1,2,4,5,6,8,10]\n",
    "- count most middle number: above would be 4th number ( of 7 numbers) -> 5! \n",
    "- if not true middle number, (say if 8 numbers) -> take the mean between those numbers in the middle.\n",
    "  \n",
    "**Mode** - most frquent number found \n",
    "- could be useful in a skew :) \n",
    "- godd for showing typical representation (e.g. number children) but not for precise measurement.\n",
    "\n",
    "finding balance with all things is key 😉\n"
   ]
  },
  {
   "cell_type": "markdown",
   "id": "2250387f",
   "metadata": {},
   "source": [
    "### Frequency Distribution\n",
    "*** imagine histogram here ***\n",
    "- variate: the quantity ina distribution (weight , height) which \"varies\"\n",
    "- Continuous variate: can assume any number within a certain range. e.g. height 174.9cm\n",
    "- discrete variates (discontinuous): must be a whole number ( number of kids = 2 , can t have 2.5 kids - also would be strange if ya did 😉)\n",
    "- sample: subset of population to make \"inferences\" about population. aim to have average of sample and population to be close for real representation.\n",
    "- skew distributions: A distribution which is not symmetrical\n",
    "    - positive skewness: if tail reaches out to larger values\n",
    "    - negative skewness : if tail reaches out to smaller values.\n"
   ]
  },
  {
   "cell_type": "markdown",
   "id": "af4ac763",
   "metadata": {},
   "source": [
    "## Chapter 5 - Scatter"
   ]
  }
 ],
 "metadata": {
  "language_info": {
   "name": "python"
  }
 },
 "nbformat": 4,
 "nbformat_minor": 5
}
